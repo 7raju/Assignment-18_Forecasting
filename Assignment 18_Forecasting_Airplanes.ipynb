{
 "cells": [
  {
   "cell_type": "code",
   "execution_count": 1,
   "id": "59d89add",
   "metadata": {},
   "outputs": [],
   "source": [
    "import pandas as pd"
   ]
  },
  {
   "cell_type": "code",
   "execution_count": 2,
   "id": "10bbd68f",
   "metadata": {},
   "outputs": [
    {
     "data": {
      "text/html": [
       "<div>\n",
       "<style scoped>\n",
       "    .dataframe tbody tr th:only-of-type {\n",
       "        vertical-align: middle;\n",
       "    }\n",
       "\n",
       "    .dataframe tbody tr th {\n",
       "        vertical-align: top;\n",
       "    }\n",
       "\n",
       "    .dataframe thead th {\n",
       "        text-align: right;\n",
       "    }\n",
       "</style>\n",
       "<table border=\"1\" class=\"dataframe\">\n",
       "  <thead>\n",
       "    <tr style=\"text-align: right;\">\n",
       "      <th></th>\n",
       "      <th>Month</th>\n",
       "      <th>Passengers</th>\n",
       "    </tr>\n",
       "  </thead>\n",
       "  <tbody>\n",
       "    <tr>\n",
       "      <th>0</th>\n",
       "      <td>1995-01-01</td>\n",
       "      <td>112</td>\n",
       "    </tr>\n",
       "    <tr>\n",
       "      <th>1</th>\n",
       "      <td>1995-02-01</td>\n",
       "      <td>118</td>\n",
       "    </tr>\n",
       "    <tr>\n",
       "      <th>2</th>\n",
       "      <td>1995-03-01</td>\n",
       "      <td>132</td>\n",
       "    </tr>\n",
       "    <tr>\n",
       "      <th>3</th>\n",
       "      <td>1995-04-01</td>\n",
       "      <td>129</td>\n",
       "    </tr>\n",
       "    <tr>\n",
       "      <th>4</th>\n",
       "      <td>1995-05-01</td>\n",
       "      <td>121</td>\n",
       "    </tr>\n",
       "  </tbody>\n",
       "</table>\n",
       "</div>"
      ],
      "text/plain": [
       "       Month  Passengers\n",
       "0 1995-01-01         112\n",
       "1 1995-02-01         118\n",
       "2 1995-03-01         132\n",
       "3 1995-04-01         129\n",
       "4 1995-05-01         121"
      ]
     },
     "execution_count": 2,
     "metadata": {},
     "output_type": "execute_result"
    }
   ],
   "source": [
    "df=pd.read_excel(\"C:\\\\Users\\\\Raju A S\\\\Downloads\\\\Airlines+Data.xlsx\")\n",
    "df.head()"
   ]
  },
  {
   "cell_type": "code",
   "execution_count": 3,
   "id": "b3e9439b",
   "metadata": {},
   "outputs": [
    {
     "data": {
      "text/html": [
       "<div>\n",
       "<style scoped>\n",
       "    .dataframe tbody tr th:only-of-type {\n",
       "        vertical-align: middle;\n",
       "    }\n",
       "\n",
       "    .dataframe tbody tr th {\n",
       "        vertical-align: top;\n",
       "    }\n",
       "\n",
       "    .dataframe thead th {\n",
       "        text-align: right;\n",
       "    }\n",
       "</style>\n",
       "<table border=\"1\" class=\"dataframe\">\n",
       "  <thead>\n",
       "    <tr style=\"text-align: right;\">\n",
       "      <th></th>\n",
       "      <th>Month</th>\n",
       "      <th>Passengers</th>\n",
       "    </tr>\n",
       "  </thead>\n",
       "  <tbody>\n",
       "    <tr>\n",
       "      <th>91</th>\n",
       "      <td>2002-08-01</td>\n",
       "      <td>405</td>\n",
       "    </tr>\n",
       "    <tr>\n",
       "      <th>92</th>\n",
       "      <td>2002-09-01</td>\n",
       "      <td>355</td>\n",
       "    </tr>\n",
       "    <tr>\n",
       "      <th>93</th>\n",
       "      <td>2002-10-01</td>\n",
       "      <td>306</td>\n",
       "    </tr>\n",
       "    <tr>\n",
       "      <th>94</th>\n",
       "      <td>2002-11-01</td>\n",
       "      <td>271</td>\n",
       "    </tr>\n",
       "    <tr>\n",
       "      <th>95</th>\n",
       "      <td>2002-12-01</td>\n",
       "      <td>306</td>\n",
       "    </tr>\n",
       "  </tbody>\n",
       "</table>\n",
       "</div>"
      ],
      "text/plain": [
       "        Month  Passengers\n",
       "91 2002-08-01         405\n",
       "92 2002-09-01         355\n",
       "93 2002-10-01         306\n",
       "94 2002-11-01         271\n",
       "95 2002-12-01         306"
      ]
     },
     "execution_count": 3,
     "metadata": {},
     "output_type": "execute_result"
    }
   ],
   "source": [
    "df.tail()"
   ]
  },
  {
   "cell_type": "code",
   "execution_count": 4,
   "id": "e345ff89",
   "metadata": {},
   "outputs": [
    {
     "data": {
      "text/plain": [
       "[<matplotlib.lines.Line2D at 0x1c749a51dc0>]"
      ]
     },
     "execution_count": 4,
     "metadata": {},
     "output_type": "execute_result"
    },
    {
     "data": {
      "image/png": "[encoded data removed]",
      "text/plain": [
       "<Figure size 432x288 with 1 Axes>"
      ]
     },
     "metadata": {
      "needs_background": "light"
     },
     "output_type": "display_data"
    }
   ],
   "source": [
    "import matplotlib.pyplot as plt\n",
    "plt.plot(df.iloc[:,1])"
   ]
  },
  {
   "cell_type": "markdown",
   "id": "86c197b2",
   "metadata": {},
   "source": [
    "# Scaling\n"
   ]
  },
  {
   "cell_type": "markdown",
   "id": "cfb0424e",
   "metadata": {},
   "source": [
    "## LSTMs are sensitive to the scale of the input data, specifically when the sigmoid (default) or tanh activation functions are used. It can be a good practice to rescale the data to the range of 0-to-1, also called normalizing. We can easily normalize the dataset using the MinMaxScaler preprocessing class from the scikit-learn library.\n",
    "\n"
   ]
  },
  {
   "cell_type": "code",
   "execution_count": 5,
   "id": "bcca4b25",
   "metadata": {},
   "outputs": [
    {
     "data": {
      "text/plain": [
       "0     112\n",
       "1     118\n",
       "2     132\n",
       "3     129\n",
       "4     121\n",
       "     ... \n",
       "91    405\n",
       "92    355\n",
       "93    306\n",
       "94    271\n",
       "95    306\n",
       "Name: Passengers, Length: 96, dtype: int64"
      ]
     },
     "execution_count": 5,
     "metadata": {},
     "output_type": "execute_result"
    }
   ],
   "source": [
    "from sklearn.preprocessing import MinMaxScaler\n",
    "df.iloc[:,1]"
   ]
  },
  {
   "cell_type": "code",
   "execution_count": 6,
   "id": "82463fc4",
   "metadata": {},
   "outputs": [
    {
     "data": {
      "text/plain": [
       "(96, 1)"
      ]
     },
     "execution_count": 6,
     "metadata": {},
     "output_type": "execute_result"
    }
   ],
   "source": [
    "\n",
    "scaler=MinMaxScaler(feature_range=(0,1))\n",
    "df=scaler.fit_transform(df.iloc[:,1:])\n",
    "df.shape"
   ]
  },
  {
   "cell_type": "code",
   "execution_count": 7,
   "id": "a50a3e23",
   "metadata": {},
   "outputs": [
    {
     "data": {
      "text/plain": [
       "array([[0.02588997],\n",
       "       [0.04530744],\n",
       "       [0.09061489],\n",
       "       [0.08090615],\n",
       "       [0.05501618],\n",
       "       [0.10032362],\n",
       "       [0.14239482],\n",
       "       [0.14239482],\n",
       "       [0.10355987],\n",
       "       [0.04854369],\n",
       "       [0.        ],\n",
       "       [0.04530744],\n",
       "       [0.03559871],\n",
       "       [0.07119741],\n",
       "       [0.1197411 ],\n",
       "       [0.10032362],\n",
       "       [0.06796117],\n",
       "       [0.14563107],\n",
       "       [0.21359223],\n",
       "       [0.21359223],\n",
       "       [0.17475728],\n",
       "       [0.09385113],\n",
       "       [0.03236246],\n",
       "       [0.11650485],\n",
       "       [0.13268608],\n",
       "       [0.14886731],\n",
       "       [0.2394822 ],\n",
       "       [0.19093851],\n",
       "       [0.22006472],\n",
       "       [0.2394822 ],\n",
       "       [0.30744337],\n",
       "       [0.30744337],\n",
       "       [0.25889968],\n",
       "       [0.18770227],\n",
       "       [0.13592233],\n",
       "       [0.20064725],\n",
       "       [0.21682848],\n",
       "       [0.24595469],\n",
       "       [0.28802589],\n",
       "       [0.24919094],\n",
       "       [0.25566343],\n",
       "       [0.36893204],\n",
       "       [0.40776699],\n",
       "       [0.44660194],\n",
       "       [0.33980583],\n",
       "       [0.2815534 ],\n",
       "       [0.22006472],\n",
       "       [0.29126214],\n",
       "       [0.29773463],\n",
       "       [0.29773463],\n",
       "       [0.42718447],\n",
       "       [0.42394822],\n",
       "       [0.40453074],\n",
       "       [0.44983819],\n",
       "       [0.51779935],\n",
       "       [0.54368932],\n",
       "       [0.43042071],\n",
       "       [0.34627832],\n",
       "       [0.24595469],\n",
       "       [0.31391586],\n",
       "       [0.3236246 ],\n",
       "       [0.27184466],\n",
       "       [0.42394822],\n",
       "       [0.39805825],\n",
       "       [0.42071197],\n",
       "       [0.51779935],\n",
       "       [0.6407767 ],\n",
       "       [0.61165049],\n",
       "       [0.50161812],\n",
       "       [0.40453074],\n",
       "       [0.32038835],\n",
       "       [0.40453074],\n",
       "       [0.44660194],\n",
       "       [0.41747573],\n",
       "       [0.52750809],\n",
       "       [0.53398058],\n",
       "       [0.53721683],\n",
       "       [0.6828479 ],\n",
       "       [0.84142395],\n",
       "       [0.78640777],\n",
       "       [0.67313916],\n",
       "       [0.55016181],\n",
       "       [0.43042071],\n",
       "       [0.5631068 ],\n",
       "       [0.58252427],\n",
       "       [0.55987055],\n",
       "       [0.68932039],\n",
       "       [0.6763754 ],\n",
       "       [0.69255663],\n",
       "       [0.87378641],\n",
       "       [1.        ],\n",
       "       [0.97411003],\n",
       "       [0.81229773],\n",
       "       [0.65372168],\n",
       "       [0.54045307],\n",
       "       [0.65372168]])"
      ]
     },
     "execution_count": 7,
     "metadata": {},
     "output_type": "execute_result"
    }
   ],
   "source": [
    "df"
   ]
  },
  {
   "cell_type": "code",
   "execution_count": 8,
   "id": "3d135c89",
   "metadata": {},
   "outputs": [
    {
     "data": {
      "text/plain": [
       "62"
      ]
     },
     "execution_count": 8,
     "metadata": {},
     "output_type": "execute_result"
    }
   ],
   "source": [
    "##splitting dataset into train and test split\n",
    "training_size=int(len(df)*0.65)\n",
    "training_size"
   ]
  },
  {
   "cell_type": "code",
   "execution_count": 9,
   "id": "92899a5e",
   "metadata": {},
   "outputs": [
    {
     "data": {
      "text/plain": [
       "34"
      ]
     },
     "execution_count": 9,
     "metadata": {},
     "output_type": "execute_result"
    }
   ],
   "source": [
    "test_size=len(df)-training_size\n",
    "test_size"
   ]
  },
  {
   "cell_type": "code",
   "execution_count": 11,
   "id": "86d71df0",
   "metadata": {},
   "outputs": [
    {
     "data": {
      "text/plain": [
       "array([[0.02588997],\n",
       "       [0.04530744],\n",
       "       [0.09061489],\n",
       "       [0.08090615],\n",
       "       [0.05501618],\n",
       "       [0.10032362],\n",
       "       [0.14239482],\n",
       "       [0.14239482],\n",
       "       [0.10355987],\n",
       "       [0.04854369],\n",
       "       [0.        ],\n",
       "       [0.04530744],\n",
       "       [0.03559871],\n",
       "       [0.07119741],\n",
       "       [0.1197411 ],\n",
       "       [0.10032362],\n",
       "       [0.06796117],\n",
       "       [0.14563107],\n",
       "       [0.21359223],\n",
       "       [0.21359223],\n",
       "       [0.17475728],\n",
       "       [0.09385113],\n",
       "       [0.03236246],\n",
       "       [0.11650485],\n",
       "       [0.13268608],\n",
       "       [0.14886731],\n",
       "       [0.2394822 ],\n",
       "       [0.19093851],\n",
       "       [0.22006472],\n",
       "       [0.2394822 ],\n",
       "       [0.30744337],\n",
       "       [0.30744337],\n",
       "       [0.25889968],\n",
       "       [0.18770227],\n",
       "       [0.13592233],\n",
       "       [0.20064725],\n",
       "       [0.21682848],\n",
       "       [0.24595469],\n",
       "       [0.28802589],\n",
       "       [0.24919094],\n",
       "       [0.25566343],\n",
       "       [0.36893204],\n",
       "       [0.40776699],\n",
       "       [0.44660194],\n",
       "       [0.33980583],\n",
       "       [0.2815534 ],\n",
       "       [0.22006472],\n",
       "       [0.29126214],\n",
       "       [0.29773463],\n",
       "       [0.29773463],\n",
       "       [0.42718447],\n",
       "       [0.42394822],\n",
       "       [0.40453074],\n",
       "       [0.44983819],\n",
       "       [0.51779935],\n",
       "       [0.54368932],\n",
       "       [0.43042071],\n",
       "       [0.34627832],\n",
       "       [0.24595469],\n",
       "       [0.31391586],\n",
       "       [0.3236246 ],\n",
       "       [0.27184466]])"
      ]
     },
     "execution_count": 11,
     "metadata": {},
     "output_type": "execute_result"
    }
   ],
   "source": [
    "train_data,test_data=df[0:training_size,:],df[training_size:len(df),:1]\n",
    "train_data"
   ]
  },
  {
   "cell_type": "code",
   "execution_count": 12,
   "id": "dd5eb247",
   "metadata": {},
   "outputs": [
    {
     "data": {
      "text/plain": [
       "array([[0.42394822],\n",
       "       [0.39805825],\n",
       "       [0.42071197],\n",
       "       [0.51779935],\n",
       "       [0.6407767 ],\n",
       "       [0.61165049],\n",
       "       [0.50161812],\n",
       "       [0.40453074],\n",
       "       [0.32038835],\n",
       "       [0.40453074],\n",
       "       [0.44660194],\n",
       "       [0.41747573],\n",
       "       [0.52750809],\n",
       "       [0.53398058],\n",
       "       [0.53721683],\n",
       "       [0.6828479 ],\n",
       "       [0.84142395],\n",
       "       [0.78640777],\n",
       "       [0.67313916],\n",
       "       [0.55016181],\n",
       "       [0.43042071],\n",
       "       [0.5631068 ],\n",
       "       [0.58252427],\n",
       "       [0.55987055],\n",
       "       [0.68932039],\n",
       "       [0.6763754 ],\n",
       "       [0.69255663],\n",
       "       [0.87378641],\n",
       "       [1.        ],\n",
       "       [0.97411003],\n",
       "       [0.81229773],\n",
       "       [0.65372168],\n",
       "       [0.54045307],\n",
       "       [0.65372168]])"
      ]
     },
     "execution_count": 12,
     "metadata": {},
     "output_type": "execute_result"
    }
   ],
   "source": [
    "test_data"
   ]
  },
  {
   "cell_type": "code",
   "execution_count": 13,
   "id": "3169814c",
   "metadata": {},
   "outputs": [],
   "source": [
    "\n",
    "import numpy as np\n",
    "# convert an array of values into a dataset matrix\n",
    "def create_dataset(dataset, time_step=1):\n",
    "\tdataX, dataY = [], []\n",
    "\tfor i in range(len(dataset)-time_step-1):\n",
    "\t\ta = dataset[i:(i+time_step), 0]   ###i=0, 0,1,2,3\n",
    "\t\tdataX.append(a)\n",
    "\t\tdataY.append(dataset[i + time_step, 0])\n",
    "\treturn np.array(dataX), np.array(dataY)"
   ]
  },
  {
   "cell_type": "code",
   "execution_count": 14,
   "id": "885b8f1f",
   "metadata": {},
   "outputs": [
    {
     "data": {
      "text/plain": [
       "((57, 4), (57,))"
      ]
     },
     "execution_count": 14,
     "metadata": {},
     "output_type": "execute_result"
    }
   ],
   "source": [
    "\n",
    "# reshape into X=t,t+1,t+2,t+3 and Y=t+4\n",
    "time_step = 4\n",
    "X_train, y_train = create_dataset(train_data, time_step)\n",
    "X_test, ytest = create_dataset(test_data, time_step)\n",
    "X_train.shape, y_train.shape"
   ]
  },
  {
   "cell_type": "code",
   "execution_count": 16,
   "id": "b844daa6",
   "metadata": {},
   "outputs": [
    {
     "data": {
      "text/plain": [
       "(57, 4, 1)"
      ]
     },
     "execution_count": 16,
     "metadata": {},
     "output_type": "execute_result"
    }
   ],
   "source": [
    "\n",
    "import numpy as np\n",
    "# reshape input to be [samples, time steps, features] which is required for LSTM\n",
    "X_train =X_train.reshape(X_train.shape[0], 4, 1)\n",
    "X_test = X_test.reshape(X_test.shape[0], 4, 1)\n",
    "X_train.shape"
   ]
  },
  {
   "cell_type": "code",
   "execution_count": 18,
   "id": "e236dca8",
   "metadata": {},
   "outputs": [],
   "source": [
    "\n",
    "### Create the LSTM model\n",
    "from tensorflow.keras.models import Sequential\n",
    "from tensorflow.keras.layers import Dense\n",
    "from tensorflow.keras.layers import LSTM"
   ]
  },
  {
   "cell_type": "code",
   "execution_count": 19,
   "id": "08ee1257",
   "metadata": {},
   "outputs": [
    {
     "name": "stdout",
     "output_type": "stream",
     "text": [
      "Epoch 1/100\n",
      "57/57 [==============================] - 3s 14ms/step - loss: 0.0203 - val_loss: 0.0982\n",
      "Epoch 2/100\n",
      "57/57 [==============================] - 0s 2ms/step - loss: 0.0110 - val_loss: 0.0647\n",
      "Epoch 3/100\n",
      "57/57 [==============================] - 0s 2ms/step - loss: 0.0084 - val_loss: 0.0349\n",
      "Epoch 4/100\n",
      "57/57 [==============================] - 0s 2ms/step - loss: 0.0102 - val_loss: 0.0308\n",
      "Epoch 5/100\n",
      "57/57 [==============================] - 0s 3ms/step - loss: 0.0108 - val_loss: 0.0514\n",
      "Epoch 6/100\n",
      "57/57 [==============================] - 0s 2ms/step - loss: 0.0080 - val_loss: 0.0517\n",
      "Epoch 7/100\n",
      "57/57 [==============================] - 0s 2ms/step - loss: 0.0082 - val_loss: 0.0505\n",
      "Epoch 8/100\n",
      "57/57 [==============================] - 0s 2ms/step - loss: 0.0081 - val_loss: 0.0432\n",
      "Epoch 9/100\n",
      "57/57 [==============================] - 0s 2ms/step - loss: 0.0079 - val_loss: 0.0435\n",
      "Epoch 10/100\n",
      "57/57 [==============================] - 0s 2ms/step - loss: 0.0073 - val_loss: 0.0346\n",
      "Epoch 11/100\n",
      "57/57 [==============================] - 0s 2ms/step - loss: 0.0071 - val_loss: 0.0287\n",
      "Epoch 12/100\n",
      "57/57 [==============================] - 0s 2ms/step - loss: 0.0074 - val_loss: 0.0280\n",
      "Epoch 13/100\n",
      "57/57 [==============================] - 0s 2ms/step - loss: 0.0069 - val_loss: 0.0425\n",
      "Epoch 14/100\n",
      "57/57 [==============================] - 0s 2ms/step - loss: 0.0065 - val_loss: 0.0232\n",
      "Epoch 15/100\n",
      "57/57 [==============================] - 0s 2ms/step - loss: 0.0080 - val_loss: 0.0290\n",
      "Epoch 16/100\n",
      "57/57 [==============================] - 0s 2ms/step - loss: 0.0067 - val_loss: 0.0323\n",
      "Epoch 17/100\n",
      "57/57 [==============================] - 0s 2ms/step - loss: 0.0068 - val_loss: 0.0380\n",
      "Epoch 18/100\n",
      "57/57 [==============================] - 0s 2ms/step - loss: 0.0061 - val_loss: 0.0231\n",
      "Epoch 19/100\n",
      "57/57 [==============================] - 0s 2ms/step - loss: 0.0059 - val_loss: 0.0250\n",
      "Epoch 20/100\n",
      "57/57 [==============================] - 0s 2ms/step - loss: 0.0056 - val_loss: 0.0325\n",
      "Epoch 21/100\n",
      "57/57 [==============================] - 0s 2ms/step - loss: 0.0054 - val_loss: 0.0194\n",
      "Epoch 22/100\n",
      "57/57 [==============================] - 0s 2ms/step - loss: 0.0053 - val_loss: 0.0156\n",
      "Epoch 23/100\n",
      "57/57 [==============================] - 0s 2ms/step - loss: 0.0049 - val_loss: 0.0210\n",
      "Epoch 24/100\n",
      "57/57 [==============================] - 0s 2ms/step - loss: 0.0046 - val_loss: 0.0316\n",
      "Epoch 25/100\n",
      "57/57 [==============================] - 0s 2ms/step - loss: 0.0047 - val_loss: 0.0205\n",
      "Epoch 26/100\n",
      "57/57 [==============================] - 0s 2ms/step - loss: 0.0045 - val_loss: 0.0164\n",
      "Epoch 27/100\n",
      "57/57 [==============================] - 0s 2ms/step - loss: 0.0037 - val_loss: 0.0206\n",
      "Epoch 28/100\n",
      "57/57 [==============================] - 0s 2ms/step - loss: 0.0038 - val_loss: 0.0150\n",
      "Epoch 29/100\n",
      "57/57 [==============================] - 0s 2ms/step - loss: 0.0035 - val_loss: 0.0160\n",
      "Epoch 30/100\n",
      "57/57 [==============================] - 0s 2ms/step - loss: 0.0035 - val_loss: 0.0089\n",
      "Epoch 31/100\n",
      "57/57 [==============================] - 0s 3ms/step - loss: 0.0033 - val_loss: 0.0151\n",
      "Epoch 32/100\n",
      "57/57 [==============================] - 0s 2ms/step - loss: 0.0032 - val_loss: 0.0118\n",
      "Epoch 33/100\n",
      "57/57 [==============================] - 0s 3ms/step - loss: 0.0032 - val_loss: 0.0193\n",
      "Epoch 34/100\n",
      "57/57 [==============================] - 0s 2ms/step - loss: 0.0037 - val_loss: 0.0099\n",
      "Epoch 35/100\n",
      "57/57 [==============================] - 0s 3ms/step - loss: 0.0032 - val_loss: 0.0096\n",
      "Epoch 36/100\n",
      "57/57 [==============================] - 0s 2ms/step - loss: 0.0032 - val_loss: 0.0106\n",
      "Epoch 37/100\n",
      "57/57 [==============================] - 0s 3ms/step - loss: 0.0029 - val_loss: 0.0108\n",
      "Epoch 38/100\n",
      "57/57 [==============================] - 0s 2ms/step - loss: 0.0034 - val_loss: 0.0171\n",
      "Epoch 39/100\n",
      "57/57 [==============================] - 0s 2ms/step - loss: 0.0034 - val_loss: 0.0180\n",
      "Epoch 40/100\n",
      "57/57 [==============================] - 0s 2ms/step - loss: 0.0032 - val_loss: 0.0121\n",
      "Epoch 41/100\n",
      "57/57 [==============================] - 0s 2ms/step - loss: 0.0031 - val_loss: 0.0235\n",
      "Epoch 42/100\n",
      "57/57 [==============================] - 0s 3ms/step - loss: 0.0034 - val_loss: 0.0127\n",
      "Epoch 43/100\n",
      "57/57 [==============================] - 0s 3ms/step - loss: 0.0030 - val_loss: 0.0098\n",
      "Epoch 44/100\n",
      "57/57 [==============================] - 0s 3ms/step - loss: 0.0034 - val_loss: 0.0130\n",
      "Epoch 45/100\n",
      "57/57 [==============================] - 0s 3ms/step - loss: 0.0029 - val_loss: 0.0195\n",
      "Epoch 46/100\n",
      "57/57 [==============================] - 0s 2ms/step - loss: 0.0031 - val_loss: 0.0218\n",
      "Epoch 47/100\n",
      "57/57 [==============================] - 0s 2ms/step - loss: 0.0029 - val_loss: 0.0090\n",
      "Epoch 48/100\n",
      "57/57 [==============================] - 0s 2ms/step - loss: 0.0032 - val_loss: 0.0117\n",
      "Epoch 49/100\n",
      "57/57 [==============================] - 0s 2ms/step - loss: 0.0036 - val_loss: 0.0090\n",
      "Epoch 50/100\n",
      "57/57 [==============================] - 0s 2ms/step - loss: 0.0031 - val_loss: 0.0107\n",
      "Epoch 51/100\n",
      "57/57 [==============================] - 0s 2ms/step - loss: 0.0034 - val_loss: 0.0124\n",
      "Epoch 52/100\n",
      "57/57 [==============================] - 0s 2ms/step - loss: 0.0034 - val_loss: 0.0144\n",
      "Epoch 53/100\n",
      "57/57 [==============================] - 0s 2ms/step - loss: 0.0032 - val_loss: 0.0249\n",
      "Epoch 54/100\n",
      "57/57 [==============================] - 0s 2ms/step - loss: 0.0032 - val_loss: 0.0127\n",
      "Epoch 55/100\n",
      "57/57 [==============================] - 0s 2ms/step - loss: 0.0029 - val_loss: 0.0124\n",
      "Epoch 56/100\n",
      "57/57 [==============================] - 0s 2ms/step - loss: 0.0031 - val_loss: 0.0118\n",
      "Epoch 57/100\n",
      "57/57 [==============================] - 0s 2ms/step - loss: 0.0033 - val_loss: 0.0140\n",
      "Epoch 58/100\n",
      "57/57 [==============================] - 0s 2ms/step - loss: 0.0030 - val_loss: 0.0096\n",
      "Epoch 59/100\n",
      "57/57 [==============================] - 0s 2ms/step - loss: 0.0030 - val_loss: 0.0115\n",
      "Epoch 60/100\n",
      "57/57 [==============================] - 0s 2ms/step - loss: 0.0033 - val_loss: 0.0094\n",
      "Epoch 61/100\n",
      "57/57 [==============================] - 0s 2ms/step - loss: 0.0031 - val_loss: 0.0130\n",
      "Epoch 62/100\n",
      "57/57 [==============================] - 0s 2ms/step - loss: 0.0028 - val_loss: 0.0203\n",
      "Epoch 63/100\n",
      "57/57 [==============================] - 0s 2ms/step - loss: 0.0029 - val_loss: 0.0096\n",
      "Epoch 64/100\n",
      "57/57 [==============================] - 0s 2ms/step - loss: 0.0030 - val_loss: 0.0227\n",
      "Epoch 65/100\n",
      "57/57 [==============================] - 0s 2ms/step - loss: 0.0031 - val_loss: 0.0091\n",
      "Epoch 66/100\n",
      "57/57 [==============================] - 0s 3ms/step - loss: 0.0031 - val_loss: 0.0200\n",
      "Epoch 67/100\n",
      "57/57 [==============================] - 0s 3ms/step - loss: 0.0032 - val_loss: 0.0177\n",
      "Epoch 68/100\n",
      "57/57 [==============================] - 0s 2ms/step - loss: 0.0031 - val_loss: 0.0109\n",
      "Epoch 69/100\n",
      "57/57 [==============================] - 0s 2ms/step - loss: 0.0032 - val_loss: 0.0142\n",
      "Epoch 70/100\n",
      "57/57 [==============================] - 0s 2ms/step - loss: 0.0029 - val_loss: 0.0170\n",
      "Epoch 71/100\n",
      "57/57 [==============================] - 0s 2ms/step - loss: 0.0032 - val_loss: 0.0164\n",
      "Epoch 72/100\n",
      "57/57 [==============================] - 0s 2ms/step - loss: 0.0033 - val_loss: 0.0078\n",
      "Epoch 73/100\n",
      "57/57 [==============================] - 0s 3ms/step - loss: 0.0034 - val_loss: 0.0205\n",
      "Epoch 74/100\n",
      "57/57 [==============================] - 0s 2ms/step - loss: 0.0031 - val_loss: 0.0205\n",
      "Epoch 75/100\n",
      "57/57 [==============================] - 0s 2ms/step - loss: 0.0032 - val_loss: 0.0134\n",
      "Epoch 76/100\n",
      "57/57 [==============================] - 0s 2ms/step - loss: 0.0030 - val_loss: 0.0096\n",
      "Epoch 77/100\n",
      "57/57 [==============================] - 0s 2ms/step - loss: 0.0031 - val_loss: 0.0108\n",
      "Epoch 78/100\n",
      "57/57 [==============================] - 0s 2ms/step - loss: 0.0031 - val_loss: 0.0151\n",
      "Epoch 79/100\n",
      "57/57 [==============================] - 0s 3ms/step - loss: 0.0029 - val_loss: 0.0140\n",
      "Epoch 80/100\n",
      "57/57 [==============================] - 0s 2ms/step - loss: 0.0028 - val_loss: 0.0126\n",
      "Epoch 81/100\n",
      "57/57 [==============================] - 0s 2ms/step - loss: 0.0030 - val_loss: 0.0175\n",
      "Epoch 82/100\n",
      "57/57 [==============================] - 0s 2ms/step - loss: 0.0029 - val_loss: 0.0145\n",
      "Epoch 83/100\n"
     ]
    },
    {
     "name": "stdout",
     "output_type": "stream",
     "text": [
      "57/57 [==============================] - 0s 2ms/step - loss: 0.0029 - val_loss: 0.0121\n",
      "Epoch 84/100\n",
      "57/57 [==============================] - 0s 3ms/step - loss: 0.0030 - val_loss: 0.0080\n",
      "Epoch 85/100\n",
      "57/57 [==============================] - 0s 3ms/step - loss: 0.0033 - val_loss: 0.0205\n",
      "Epoch 86/100\n",
      "57/57 [==============================] - 0s 2ms/step - loss: 0.0033 - val_loss: 0.0141\n",
      "Epoch 87/100\n",
      "57/57 [==============================] - 0s 2ms/step - loss: 0.0030 - val_loss: 0.0130\n",
      "Epoch 88/100\n",
      "57/57 [==============================] - 0s 3ms/step - loss: 0.0030 - val_loss: 0.0113\n",
      "Epoch 89/100\n",
      "57/57 [==============================] - 0s 2ms/step - loss: 0.0029 - val_loss: 0.0149\n",
      "Epoch 90/100\n",
      "57/57 [==============================] - 0s 2ms/step - loss: 0.0031 - val_loss: 0.0155\n",
      "Epoch 91/100\n",
      "57/57 [==============================] - 0s 2ms/step - loss: 0.0029 - val_loss: 0.0183\n",
      "Epoch 92/100\n",
      "57/57 [==============================] - 0s 3ms/step - loss: 0.0029 - val_loss: 0.0293\n",
      "Epoch 93/100\n",
      "57/57 [==============================] - 0s 3ms/step - loss: 0.0030 - val_loss: 0.0113\n",
      "Epoch 94/100\n",
      "57/57 [==============================] - 0s 2ms/step - loss: 0.0027 - val_loss: 0.0259\n",
      "Epoch 95/100\n",
      "57/57 [==============================] - 0s 3ms/step - loss: 0.0030 - val_loss: 0.0106\n",
      "Epoch 96/100\n",
      "57/57 [==============================] - 0s 2ms/step - loss: 0.0029 - val_loss: 0.0122\n",
      "Epoch 97/100\n",
      "57/57 [==============================] - 0s 3ms/step - loss: 0.0033 - val_loss: 0.0163\n",
      "Epoch 98/100\n",
      "57/57 [==============================] - 0s 3ms/step - loss: 0.0030 - val_loss: 0.0148\n",
      "Epoch 99/100\n",
      "57/57 [==============================] - 0s 3ms/step - loss: 0.0028 - val_loss: 0.0167\n",
      "Epoch 100/100\n",
      "57/57 [==============================] - 0s 3ms/step - loss: 0.0030 - val_loss: 0.0183\n"
     ]
    },
    {
     "data": {
      "text/plain": [
       "<keras.callbacks.History at 0x1c7562a5f10>"
      ]
     },
     "execution_count": 19,
     "metadata": {},
     "output_type": "execute_result"
    }
   ],
   "source": [
    "model=Sequential()\n",
    "model.add(LSTM(50,return_sequences=True,input_shape=(4,1)))\n",
    "model.add(LSTM(50))\n",
    "model.add(Dense(1))\n",
    "model.compile(loss='mean_squared_error',optimizer='adam')\n",
    "model.fit(X_train,y_train,validation_data=(X_test,ytest),epochs=100,batch_size=1,verbose=1)"
   ]
  },
  {
   "cell_type": "code",
   "execution_count": 20,
   "id": "1dbd2851",
   "metadata": {},
   "outputs": [
    {
     "name": "stdout",
     "output_type": "stream",
     "text": [
      "2/2 [==============================] - 1s 8ms/step\n",
      "1/1 [==============================] - 0s 16ms/step\n"
     ]
    }
   ],
   "source": [
    "train_predict=model.predict(X_train)\n",
    "test_predict=model.predict(X_test)"
   ]
  },
  {
   "cell_type": "code",
   "execution_count": 21,
   "id": "c897e65e",
   "metadata": {},
   "outputs": [
    {
     "data": {
      "text/plain": [
       "array([[0.49828202],\n",
       "       [0.5906728 ],\n",
       "       [0.47936153],\n",
       "       [0.368461  ],\n",
       "       [0.3503585 ],\n",
       "       [0.3121739 ],\n",
       "       [0.42165533],\n",
       "       [0.42880493],\n",
       "       [0.3502437 ],\n",
       "       [0.49793595],\n",
       "       [0.4725504 ],\n",
       "       [0.44617146],\n",
       "       [0.6326311 ],\n",
       "       [0.7477739 ],\n",
       "       [0.5581102 ],\n",
       "       [0.4602398 ],\n",
       "       [0.4466114 ],\n",
       "       [0.38616246],\n",
       "       [0.5730174 ],\n",
       "       [0.5398346 ],\n",
       "       [0.443909  ],\n",
       "       [0.62513703],\n",
       "       [0.5636113 ],\n",
       "       [0.5447571 ],\n",
       "       [0.77525365],\n",
       "       [0.81443644],\n",
       "       [0.66326916],\n",
       "       [0.5248764 ],\n",
       "       [0.48561   ]], dtype=float32)"
      ]
     },
     "execution_count": 21,
     "metadata": {},
     "output_type": "execute_result"
    }
   ],
   "source": [
    "test_predict"
   ]
  },
  {
   "cell_type": "code",
   "execution_count": 22,
   "id": "e17d06cf",
   "metadata": {},
   "outputs": [
    {
     "data": {
      "text/plain": [
       "array([[257.96915],\n",
       "       [286.5179 ],\n",
       "       [252.12273],\n",
       "       [217.85446],\n",
       "       [212.26079],\n",
       "       [200.46175],\n",
       "       [234.29149],\n",
       "       [236.50073],\n",
       "       [212.22531],\n",
       "       [257.8622 ],\n",
       "       [250.01808],\n",
       "       [241.86699],\n",
       "       [299.48303],\n",
       "       [335.06213],\n",
       "       [276.45605],\n",
       "       [246.2141 ],\n",
       "       [242.00293],\n",
       "       [223.3242 ],\n",
       "       [281.06238],\n",
       "       [270.8089 ],\n",
       "       [241.1679 ],\n",
       "       [297.16736],\n",
       "       [278.1559 ],\n",
       "       [272.32996],\n",
       "       [343.55338],\n",
       "       [355.66086],\n",
       "       [308.95016],\n",
       "       [266.18683],\n",
       "       [254.0535 ]], dtype=float32)"
      ]
     },
     "execution_count": 22,
     "metadata": {},
     "output_type": "execute_result"
    }
   ],
   "source": [
    "##Transformback to original form\n",
    "train_predict=scaler.inverse_transform(train_predict)\n",
    "test_predict=scaler.inverse_transform(test_predict)\n",
    "test_predict"
   ]
  },
  {
   "cell_type": "code",
   "execution_count": 23,
   "id": "70a70c0c",
   "metadata": {},
   "outputs": [
    {
     "data": {
      "text/plain": [
       "((57,),\n",
       " (57, 1),\n",
       " array([[127.22589 ],\n",
       "        [122.76033 ],\n",
       "        [138.9989  ],\n",
       "        [147.25601 ],\n",
       "        [144.74916 ],\n",
       "        [135.1288  ],\n",
       "        [123.177444],\n",
       "        [112.05654 ],\n",
       "        [125.07541 ],\n",
       "        [115.41619 ],\n",
       "        [128.14342 ],\n",
       "        [140.68976 ],\n",
       "        [131.99872 ],\n",
       "        [126.74494 ],\n",
       "        [153.50262 ],\n",
       "        [167.69716 ],\n",
       "        [162.49019 ],\n",
       "        [153.46042 ],\n",
       "        [134.24104 ],\n",
       "        [122.53296 ],\n",
       "        [148.11684 ],\n",
       "        [142.30309 ],\n",
       "        [147.89154 ],\n",
       "        [178.35191 ],\n",
       "        [153.82884 ],\n",
       "        [171.43219 ],\n",
       "        [177.03773 ],\n",
       "        [196.58603 ],\n",
       "        [190.01231 ],\n",
       "        [174.20581 ],\n",
       "        [159.61787 ],\n",
       "        [150.50494 ],\n",
       "        [172.68423 ],\n",
       "        [168.41632 ],\n",
       "        [176.0852  ],\n",
       "        [189.56949 ],\n",
       "        [172.1731  ],\n",
       "        [180.46796 ],\n",
       "        [220.17412 ],\n",
       "        [219.34596 ],\n",
       "        [226.01697 ],\n",
       "        [187.51108 ],\n",
       "        [184.19452 ],\n",
       "        [174.66397 ],\n",
       "        [199.28061 ],\n",
       "        [191.38556 ],\n",
       "        [187.89578 ],\n",
       "        [235.77426 ],\n",
       "        [219.02934 ],\n",
       "        [209.28404 ],\n",
       "        [234.89505 ],\n",
       "        [254.00786 ],\n",
       "        [250.08092 ],\n",
       "        [205.58632 ],\n",
       "        [197.04411 ],\n",
       "        [180.37975 ],\n",
       "        [208.32037 ]], dtype=float32))"
      ]
     },
     "execution_count": 23,
     "metadata": {},
     "output_type": "execute_result"
    }
   ],
   "source": [
    "y_train.shape,train_predict.shape,train_predict"
   ]
  },
  {
   "cell_type": "code",
   "execution_count": 24,
   "id": "b5792f31",
   "metadata": {},
   "outputs": [
    {
     "data": {
      "text/plain": [
       "174.41159094105532"
      ]
     },
     "execution_count": 24,
     "metadata": {},
     "output_type": "execute_result"
    }
   ],
   "source": [
    "\n",
    "### Calculate RMSE performance metrics\n",
    "import math\n",
    "from sklearn.metrics import mean_squared_error\n",
    "math.sqrt(mean_squared_error(y_train,train_predict))"
   ]
  },
  {
   "cell_type": "code",
   "execution_count": 25,
   "id": "c31a8581",
   "metadata": {},
   "outputs": [
    {
     "data": {
      "text/plain": [
       "174.41159094105532"
      ]
     },
     "execution_count": 25,
     "metadata": {},
     "output_type": "execute_result"
    }
   ],
   "source": [
    "### Calculate RMSE performance metrics\n",
    "import math\n",
    "from sklearn.metrics import mean_squared_error\n",
    "math.sqrt(mean_squared_error(y_train,train_predict))"
   ]
  },
  {
   "cell_type": "code",
   "execution_count": 26,
   "id": "90b19f27",
   "metadata": {},
   "outputs": [
    {
     "data": {
      "image/png": "[encoded data removed]",
      "text/plain": [
       "<Figure size 432x288 with 1 Axes>"
      ]
     },
     "metadata": {
      "needs_background": "light"
     },
     "output_type": "display_data"
    }
   ],
   "source": [
    "### Plotting \n",
    "# shift train predictions for plotting\n",
    "look_back=4\n",
    "trainPredictPlot = np.empty_like(df)\n",
    "trainPredictPlot[:, :] = np.nan\n",
    "trainPredictPlot[look_back:len(train_predict)+look_back, :] = train_predict\n",
    "# shift test predictions for plotting\n",
    "testPredictPlot = np.empty_like(df)\n",
    "testPredictPlot[:, :] = np.nan\n",
    "testPredictPlot[len(train_predict)+(look_back*2)+1:len(df)-1, :] = test_predict\n",
    "# plot baseline and predictions\n",
    "plt.plot(scaler.inverse_transform(df))\n",
    "plt.plot(trainPredictPlot)\n",
    "plt.plot(testPredictPlot)\n",
    "plt.show()"
   ]
  },
  {
   "cell_type": "code",
   "execution_count": null,
   "id": "f2d44e52",
   "metadata": {},
   "outputs": [],
   "source": []
  }
 ],
 "metadata": {
  "kernelspec": {
   "display_name": "Python 3 (ipykernel)",
   "language": "python",
   "name": "python3"
  },
  "language_info": {
   "codemirror_mode": {
    "name": "ipython",
    "version": 3
   },
   "file_extension": ".py",
   "mimetype": "text/x-python",
   "name": "python",
   "nbconvert_exporter": "python",
   "pygments_lexer": "ipython3",
   "version": "3.9.12"
  }
 },
 "nbformat": 4,
 "nbformat_minor": 5
}
